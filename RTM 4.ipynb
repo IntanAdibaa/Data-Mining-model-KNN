{
 "cells": [
  {
   "cell_type": "code",
   "execution_count": 1,
   "id": "4bb6bbf8-07d1-46c8-bcd2-93a7e6f60ba3",
   "metadata": {},
   "outputs": [],
   "source": [
    "import numpy as np \n",
    "import pandas as pd \n",
    "import matplotlib.pyplot as plt \n",
    "import seaborn as sns \n",
    "%matplotlib inline\n",
    "import warnings\n",
    "warnings.filterwarnings('ignore')"
   ]
  },
  {
   "cell_type": "code",
   "execution_count": 2,
   "id": "fb8a0a8f-0374-4ec9-a335-4517b76a82dc",
   "metadata": {},
   "outputs": [
    {
     "data": {
      "text/html": [
       "<div>\n",
       "<style scoped>\n",
       "    .dataframe tbody tr th:only-of-type {\n",
       "        vertical-align: middle;\n",
       "    }\n",
       "\n",
       "    .dataframe tbody tr th {\n",
       "        vertical-align: top;\n",
       "    }\n",
       "\n",
       "    .dataframe thead th {\n",
       "        text-align: right;\n",
       "    }\n",
       "</style>\n",
       "<table border=\"1\" class=\"dataframe\">\n",
       "  <thead>\n",
       "    <tr style=\"text-align: right;\">\n",
       "      <th></th>\n",
       "      <th>infoavail</th>\n",
       "      <th>housecost</th>\n",
       "      <th>schoolquality</th>\n",
       "      <th>policetrust</th>\n",
       "      <th>streetquality</th>\n",
       "      <th>ëvents</th>\n",
       "      <th>happy</th>\n",
       "    </tr>\n",
       "  </thead>\n",
       "  <tbody>\n",
       "    <tr>\n",
       "      <th>0</th>\n",
       "      <td>3</td>\n",
       "      <td>3</td>\n",
       "      <td>3</td>\n",
       "      <td>4</td>\n",
       "      <td>2</td>\n",
       "      <td>4</td>\n",
       "      <td>0</td>\n",
       "    </tr>\n",
       "    <tr>\n",
       "      <th>1</th>\n",
       "      <td>3</td>\n",
       "      <td>2</td>\n",
       "      <td>3</td>\n",
       "      <td>5</td>\n",
       "      <td>4</td>\n",
       "      <td>3</td>\n",
       "      <td>0</td>\n",
       "    </tr>\n",
       "    <tr>\n",
       "      <th>2</th>\n",
       "      <td>5</td>\n",
       "      <td>3</td>\n",
       "      <td>3</td>\n",
       "      <td>3</td>\n",
       "      <td>3</td>\n",
       "      <td>5</td>\n",
       "      <td>1</td>\n",
       "    </tr>\n",
       "    <tr>\n",
       "      <th>3</th>\n",
       "      <td>5</td>\n",
       "      <td>4</td>\n",
       "      <td>3</td>\n",
       "      <td>3</td>\n",
       "      <td>3</td>\n",
       "      <td>5</td>\n",
       "      <td>0</td>\n",
       "    </tr>\n",
       "    <tr>\n",
       "      <th>4</th>\n",
       "      <td>5</td>\n",
       "      <td>4</td>\n",
       "      <td>3</td>\n",
       "      <td>3</td>\n",
       "      <td>3</td>\n",
       "      <td>5</td>\n",
       "      <td>0</td>\n",
       "    </tr>\n",
       "    <tr>\n",
       "      <th>...</th>\n",
       "      <td>...</td>\n",
       "      <td>...</td>\n",
       "      <td>...</td>\n",
       "      <td>...</td>\n",
       "      <td>...</td>\n",
       "      <td>...</td>\n",
       "      <td>...</td>\n",
       "    </tr>\n",
       "    <tr>\n",
       "      <th>138</th>\n",
       "      <td>5</td>\n",
       "      <td>3</td>\n",
       "      <td>3</td>\n",
       "      <td>1</td>\n",
       "      <td>3</td>\n",
       "      <td>5</td>\n",
       "      <td>0</td>\n",
       "    </tr>\n",
       "    <tr>\n",
       "      <th>139</th>\n",
       "      <td>5</td>\n",
       "      <td>2</td>\n",
       "      <td>3</td>\n",
       "      <td>4</td>\n",
       "      <td>2</td>\n",
       "      <td>5</td>\n",
       "      <td>1</td>\n",
       "    </tr>\n",
       "    <tr>\n",
       "      <th>140</th>\n",
       "      <td>5</td>\n",
       "      <td>3</td>\n",
       "      <td>3</td>\n",
       "      <td>4</td>\n",
       "      <td>4</td>\n",
       "      <td>5</td>\n",
       "      <td>1</td>\n",
       "    </tr>\n",
       "    <tr>\n",
       "      <th>141</th>\n",
       "      <td>4</td>\n",
       "      <td>3</td>\n",
       "      <td>3</td>\n",
       "      <td>4</td>\n",
       "      <td>4</td>\n",
       "      <td>5</td>\n",
       "      <td>0</td>\n",
       "    </tr>\n",
       "    <tr>\n",
       "      <th>142</th>\n",
       "      <td>5</td>\n",
       "      <td>3</td>\n",
       "      <td>2</td>\n",
       "      <td>5</td>\n",
       "      <td>5</td>\n",
       "      <td>5</td>\n",
       "      <td>0</td>\n",
       "    </tr>\n",
       "  </tbody>\n",
       "</table>\n",
       "<p>143 rows × 7 columns</p>\n",
       "</div>"
      ],
      "text/plain": [
       "     infoavail  housecost  schoolquality  policetrust  streetquality  ëvents  \\\n",
       "0            3          3              3            4              2       4   \n",
       "1            3          2              3            5              4       3   \n",
       "2            5          3              3            3              3       5   \n",
       "3            5          4              3            3              3       5   \n",
       "4            5          4              3            3              3       5   \n",
       "..         ...        ...            ...          ...            ...     ...   \n",
       "138          5          3              3            1              3       5   \n",
       "139          5          2              3            4              2       5   \n",
       "140          5          3              3            4              4       5   \n",
       "141          4          3              3            4              4       5   \n",
       "142          5          3              2            5              5       5   \n",
       "\n",
       "     happy  \n",
       "0        0  \n",
       "1        0  \n",
       "2        1  \n",
       "3        0  \n",
       "4        0  \n",
       "..     ...  \n",
       "138      0  \n",
       "139      1  \n",
       "140      1  \n",
       "141      0  \n",
       "142      0  \n",
       "\n",
       "[143 rows x 7 columns]"
      ]
     },
     "execution_count": 2,
     "metadata": {},
     "output_type": "execute_result"
    }
   ],
   "source": [
    "df = pd.read_csv('C:/Users/ASUS/Documents/Semester 4/Data Mining/happydata.csv')\n",
    "df"
   ]
  },
  {
   "cell_type": "markdown",
   "id": "a73c3487-126f-432c-9c00-6f370d088152",
   "metadata": {},
   "source": [
    "# Eksplorasi Data"
   ]
  },
  {
   "cell_type": "code",
   "execution_count": 3,
   "id": "de8644a8-c7c0-4dcf-90f5-b45e0486927a",
   "metadata": {},
   "outputs": [
    {
     "name": "stdout",
     "output_type": "stream",
     "text": [
      "<class 'pandas.core.frame.DataFrame'>\n",
      "RangeIndex: 143 entries, 0 to 142\n",
      "Data columns (total 7 columns):\n",
      " #   Column         Non-Null Count  Dtype\n",
      "---  ------         --------------  -----\n",
      " 0   infoavail      143 non-null    int64\n",
      " 1   housecost      143 non-null    int64\n",
      " 2   schoolquality  143 non-null    int64\n",
      " 3   policetrust    143 non-null    int64\n",
      " 4   streetquality  143 non-null    int64\n",
      " 5   ëvents         143 non-null    int64\n",
      " 6   happy          143 non-null    int64\n",
      "dtypes: int64(7)\n",
      "memory usage: 7.9 KB\n"
     ]
    }
   ],
   "source": [
    "df.info()"
   ]
  },
  {
   "cell_type": "code",
   "execution_count": 4,
   "id": "1430db94-4ad4-4e72-a49c-5c9b722c3b62",
   "metadata": {},
   "outputs": [
    {
     "data": {
      "text/plain": [
       "(143, 7)"
      ]
     },
     "execution_count": 4,
     "metadata": {},
     "output_type": "execute_result"
    }
   ],
   "source": [
    "df.shape"
   ]
  },
  {
   "cell_type": "markdown",
   "id": "d0786e63-e59e-46db-9522-e47ff7e3a51e",
   "metadata": {},
   "source": [
    "### Frekuensi distribusi values pada setiap variabel"
   ]
  },
  {
   "cell_type": "code",
   "execution_count": 5,
   "id": "edbcb88f-779f-4386-b1f6-3164784f0c55",
   "metadata": {},
   "outputs": [
    {
     "name": "stdout",
     "output_type": "stream",
     "text": [
      "infoavail\n",
      "5    72\n",
      "4    46\n",
      "3    24\n",
      "1     1\n",
      "Name: count, dtype: int64\n",
      "housecost\n",
      "3    46\n",
      "2    40\n",
      "1    30\n",
      "4    20\n",
      "5     7\n",
      "Name: count, dtype: int64\n",
      "schoolquality\n",
      "3    65\n",
      "4    36\n",
      "2    18\n",
      "5    17\n",
      "1     7\n",
      "Name: count, dtype: int64\n",
      "policetrust\n",
      "4    60\n",
      "3    48\n",
      "5    26\n",
      "2     6\n",
      "1     3\n",
      "Name: count, dtype: int64\n",
      "streetquality\n",
      "4    58\n",
      "5    32\n",
      "3    27\n",
      "2    18\n",
      "1     8\n",
      "Name: count, dtype: int64\n",
      "ëvents\n",
      "5    63\n",
      "4    53\n",
      "3    24\n",
      "1     2\n",
      "2     1\n",
      "Name: count, dtype: int64\n",
      "happy\n",
      "1    77\n",
      "0    66\n",
      "Name: count, dtype: int64\n"
     ]
    }
   ],
   "source": [
    "for var in df.columns:\n",
    "    print(df[var].value_counts())"
   ]
  },
  {
   "cell_type": "markdown",
   "id": "5166ee51-d4d3-4adc-98e9-c6154d61d834",
   "metadata": {},
   "source": [
    "### Memeriksa missing values pada variabel"
   ]
  },
  {
   "cell_type": "code",
   "execution_count": 6,
   "id": "7867bc00-3b6c-471f-81ec-41171f873e90",
   "metadata": {},
   "outputs": [
    {
     "data": {
      "text/plain": [
       "infoavail        0\n",
       "housecost        0\n",
       "schoolquality    0\n",
       "policetrust      0\n",
       "streetquality    0\n",
       "ëvents           0\n",
       "happy            0\n",
       "dtype: int64"
      ]
     },
     "execution_count": 6,
     "metadata": {},
     "output_type": "execute_result"
    }
   ],
   "source": [
    "df.isnull().sum()"
   ]
  },
  {
   "cell_type": "code",
   "execution_count": 7,
   "id": "28c4bbe8-c1a9-44e5-82a2-1577e7d4b558",
   "metadata": {},
   "outputs": [
    {
     "data": {
      "text/plain": [
       "infoavail        0\n",
       "housecost        0\n",
       "schoolquality    0\n",
       "policetrust      0\n",
       "streetquality    0\n",
       "ëvents           0\n",
       "happy            0\n",
       "dtype: int64"
      ]
     },
     "execution_count": 7,
     "metadata": {},
     "output_type": "execute_result"
    }
   ],
   "source": [
    "df.isna().sum()"
   ]
  },
  {
   "cell_type": "markdown",
   "id": "75e970e4-43ad-4e15-bf36-b3c3d75cb8b3",
   "metadata": {},
   "source": [
    "### Cek distribusi frekuensi dari variabel target yaitu happy"
   ]
  },
  {
   "cell_type": "code",
   "execution_count": 8,
   "id": "7416cce8-5997-4ccb-8ff2-c8d0dee514df",
   "metadata": {},
   "outputs": [
    {
     "data": {
      "text/plain": [
       "happy\n",
       "1    77\n",
       "0    66\n",
       "Name: count, dtype: int64"
      ]
     },
     "execution_count": 8,
     "metadata": {},
     "output_type": "execute_result"
    }
   ],
   "source": [
    "df['happy'].value_counts()"
   ]
  },
  {
   "cell_type": "markdown",
   "id": "66a38ac1-e6ba-4066-9766-591fcbdae746",
   "metadata": {},
   "source": [
    "### Cek persentase frekuensi dari happy"
   ]
  },
  {
   "cell_type": "code",
   "execution_count": 9,
   "id": "e7db7a7e-a5bd-4d6f-b8d1-e364d032c4a3",
   "metadata": {},
   "outputs": [
    {
     "data": {
      "text/plain": [
       "happy\n",
       "1    0.538462\n",
       "0    0.461538\n",
       "Name: count, dtype: float64"
      ]
     },
     "execution_count": 9,
     "metadata": {},
     "output_type": "execute_result"
    }
   ],
   "source": [
    "df['happy'].value_counts()/float(len(df))"
   ]
  },
  {
   "cell_type": "code",
   "execution_count": 10,
   "id": "d87e71cc-9819-4d34-9be5-c0df9a88742e",
   "metadata": {},
   "outputs": [
    {
     "name": "stdout",
     "output_type": "stream",
     "text": [
      "       infoavail  housecost  schoolquality  policetrust  streetquality  \\\n",
      "count     143.00     143.00         143.00       143.00         143.00   \n",
      "mean        4.31       2.54           3.27         3.70           3.62   \n",
      "std         0.80       1.12           0.99         0.89           1.13   \n",
      "min         1.00       1.00           1.00         1.00           1.00   \n",
      "25%         4.00       2.00           3.00         3.00           3.00   \n",
      "50%         5.00       3.00           3.00         4.00           4.00   \n",
      "75%         5.00       3.00           4.00         4.00           4.00   \n",
      "max         5.00       5.00           5.00         5.00           5.00   \n",
      "\n",
      "       ëvents   happy  \n",
      "count  143.00  143.00  \n",
      "mean     4.22    0.54  \n",
      "std      0.85    0.50  \n",
      "min      1.00    0.00  \n",
      "25%      4.00    0.00  \n",
      "50%      4.00    1.00  \n",
      "75%      5.00    1.00  \n",
      "max      5.00    1.00  \n"
     ]
    }
   ],
   "source": [
    "print(round(df.describe(),2))"
   ]
  },
  {
   "cell_type": "markdown",
   "id": "84c9c2e4-8640-44c8-8de0-9a35599c6642",
   "metadata": {},
   "source": [
    "# Data visualisasi"
   ]
  },
  {
   "cell_type": "code",
   "execution_count": 11,
   "id": "d415d4e0-77cb-4b3d-b70b-b98ac7631a8b",
   "metadata": {},
   "outputs": [
    {
     "data": {
      "image/png": "[encoded data removed]",
      "text/plain": [
       "<Figure size 3000x2500 with 10 Axes>"
      ]
     },
     "metadata": {},
     "output_type": "display_data"
    }
   ],
   "source": [
    "plt.rcParams['figure.figsize']=(30,25)\n",
    "\n",
    "df.plot(kind='hist', bins=5, subplots=True, layout=(5,2), sharex=False, sharey=False)\n",
    "\n",
    "plt.show()"
   ]
  },
  {
   "cell_type": "markdown",
   "id": "c1e7dbb9-f6bd-4272-a0ed-823f44ef0992",
   "metadata": {},
   "source": [
    "### Estimasi korelasi koefisien"
   ]
  },
  {
   "cell_type": "code",
   "execution_count": 12,
   "id": "972453ea-6d35-4790-882d-127c890c5a2e",
   "metadata": {},
   "outputs": [],
   "source": [
    "korelasi = df.corr()"
   ]
  },
  {
   "cell_type": "code",
   "execution_count": 13,
   "id": "12887f9b-a4e2-4358-a994-acf1f4459867",
   "metadata": {},
   "outputs": [
    {
     "data": {
      "text/plain": [
       "happy            1.000000\n",
       "infoavail        0.312740\n",
       "ëvents           0.220729\n",
       "streetquality    0.206685\n",
       "schoolquality    0.163639\n",
       "policetrust      0.113356\n",
       "housecost        0.019368\n",
       "Name: happy, dtype: float64"
      ]
     },
     "execution_count": 13,
     "metadata": {},
     "output_type": "execute_result"
    }
   ],
   "source": [
    "korelasi['happy'].sort_values(ascending=False)"
   ]
  },
  {
   "cell_type": "markdown",
   "id": "4cce16d9-7fdc-46b9-a060-bcada05141ff",
   "metadata": {},
   "source": [
    "Interpretasi:\n",
    "Dapat dilihat ternyata semua variabel memiliki pengaruh yang rendah karena mendekati 0"
   ]
  },
  {
   "cell_type": "markdown",
   "id": "25344f52-ba01-43e3-931b-280e6ef48bbb",
   "metadata": {},
   "source": [
    "### Heat map korelasi"
   ]
  },
  {
   "cell_type": "code",
   "execution_count": 14,
   "id": "00f593ee-ff74-4370-a40a-eb615297f482",
   "metadata": {},
   "outputs": [
    {
     "data": {
      "image/png": "[encoded data removed]",
      "text/plain": [
       "<Figure size 1000x800 with 2 Axes>"
      ]
     },
     "metadata": {},
     "output_type": "display_data"
    }
   ],
   "source": [
    "plt.figure(figsize=(10,8))\n",
    "plt.title('Korelasi setiap atribut dengan variabel happy')\n",
    "a = sns.heatmap(korelasi, square=True, annot=True, fmt='.2f', linecolor='white')\n",
    "a.set_xticklabels(a.get_xticklabels(), rotation=90)\n",
    "a.set_yticklabels(a.get_yticklabels(), rotation=30)           \n",
    "plt.show()"
   ]
  },
  {
   "cell_type": "markdown",
   "id": "6dcb4b30-4ee8-498e-9c94-f756f3386b0f",
   "metadata": {},
   "source": [
    "### Scaling data menggunakan MinMax"
   ]
  },
  {
   "cell_type": "code",
   "execution_count": 15,
   "id": "d194e33d-d0eb-4742-bef7-fb7fda063ebe",
   "metadata": {},
   "outputs": [],
   "source": [
    "colnames_numeric = df.columns[0:5]"
   ]
  },
  {
   "cell_type": "code",
   "execution_count": 16,
   "id": "918bb59f-56aa-46dd-9b28-bc30fc06d1ef",
   "metadata": {},
   "outputs": [],
   "source": [
    "import random\n",
    "def train_test_split(data, split, trainingSet = [], testSet = []):\n",
    "    for x in range(len(data)):\n",
    "        if random.random() < split:\n",
    "            trainingSet.append(data[x])\n",
    "        else:\n",
    "            testSet.append(data[x])"
   ]
  },
  {
   "cell_type": "code",
   "execution_count": 18,
   "id": "ba1ff6c2-aab3-4908-b4f1-14472872c43a",
   "metadata": {},
   "outputs": [],
   "source": [
    "from sklearn.preprocessing import MinMaxScaler\n",
    "scaler = MinMaxScaler()\n",
    "df[colnames_numeric] = scaler.fit_transform(df[colnames_numeric])"
   ]
  },
  {
   "cell_type": "code",
   "execution_count": 19,
   "id": "0a1aaa3d-e514-44cc-a119-770b3d5d67ed",
   "metadata": {},
   "outputs": [],
   "source": [
    "df_1 = df.values.tolist()"
   ]
  },
  {
   "cell_type": "code",
   "execution_count": 20,
   "id": "ac020947-40da-46ed-946f-cd2cca100975",
   "metadata": {},
   "outputs": [],
   "source": [
    "trainingSet = []\n",
    "testSet = []\n",
    "split = 0.7\n",
    "train_test_split(df_1, split, trainingSet, testSet)"
   ]
  },
  {
   "cell_type": "markdown",
   "id": "5eb0be1b-1e79-409e-ae85-c75873f77503",
   "metadata": {},
   "source": [
    "### Mendefinisikan euclidean untuk mencari jarak"
   ]
  },
  {
   "cell_type": "code",
   "execution_count": 21,
   "id": "745b6c97-e057-4d66-a2ff-1b0108c98efd",
   "metadata": {},
   "outputs": [],
   "source": [
    "import math\n",
    "def Euclideandist(x,xi, length):\n",
    "    d = 0.0\n",
    "    for i in range(length):\n",
    "        d += pow(float(x[i])- float(xi[i]),2)\n",
    "    return math.sqrt(d)"
   ]
  },
  {
   "cell_type": "markdown",
   "id": "df33fe17-3198-43e8-b092-7ed3f2260e2e",
   "metadata": {},
   "source": [
    "### Mendefinisikan KNN(getNeighbors) menggunakan jarak euclidean terdekat dengan data uji"
   ]
  },
  {
   "cell_type": "code",
   "execution_count": 22,
   "id": "187e12ab-e2cd-4276-b9a6-1e54d5aca452",
   "metadata": {},
   "outputs": [],
   "source": [
    "import operator\n",
    "def getNeighbors(trainingSet, testInstance, k):\n",
    "    distances = []\n",
    "    length = len(testInstance)-1\n",
    "    for x in range(len(trainingSet)):\n",
    "        dist = Euclideandist(testInstance, trainingSet[x], length)\n",
    "        distances.append((trainingSet[x], dist))\n",
    "    distances.sort(key=operator.itemgetter(1))\n",
    "    neighbors = []\n",
    "    for x in range(k):\n",
    "        neighbors.append(distances[x][0])\n",
    "    return neighbors\n"
   ]
  },
  {
   "cell_type": "markdown",
   "id": "3b9a8858-d98a-425e-8c57-0766f41ceb43",
   "metadata": {},
   "source": [
    "### Mendefinisikan fungsi getResponese yang berfungsi untuk memberikan kelas akhir dari data uji berdasarkan pemilihan mayoritas"
   ]
  },
  {
   "cell_type": "code",
   "execution_count": 23,
   "id": "6436fff9-7535-4fa5-b07b-e501f3ffaca9",
   "metadata": {},
   "outputs": [],
   "source": [
    "import operator\n",
    "def getResponse(neighbors):\n",
    "\tclassVotes = {}\n",
    "\tfor x in range(len(neighbors)):\n",
    "\t\tresponse = neighbors[x][-1]\n",
    "\t\tif response in classVotes:\n",
    "\t\t\tclassVotes[response] += 1\n",
    "\t\telse:\n",
    "\t\t\tclassVotes[response] = 1\n",
    "\tsortedVotes = sorted(classVotes.items(), key=operator.itemgetter(1), reverse=True)#Sorting it based on votes\n",
    "\treturn sortedVotes[0][0] #Please note we need the class for the top voted class, hence [0][0]#"
   ]
  },
  {
   "cell_type": "markdown",
   "id": "ff9786fc-a4bd-4593-a92f-7aca4e616b04",
   "metadata": {},
   "source": [
    "### Mendefinisikan fungsi getAccuracy yang berfungsi untuk mengukur keakuratan prediksi"
   ]
  },
  {
   "cell_type": "code",
   "execution_count": 24,
   "id": "4dedbf05-6eaa-4df6-9b4f-5c63e83e7882",
   "metadata": {},
   "outputs": [],
   "source": [
    "def getAccuracy(testSet, predictions):\n",
    "\tcorrect = 0\n",
    "\tfor x in range(len(testSet)):\n",
    "\t\tif testSet[x][-1] == predictions[x]:\n",
    "\t\t\tcorrect += 1\n",
    "\treturn (correct/float(len(testSet))) * 100.0"
   ]
  },
  {
   "cell_type": "markdown",
   "id": "432b159b-594c-497f-82b7-043d1c9ef973",
   "metadata": {},
   "source": [
    "### Melakukan prediksi"
   ]
  },
  {
   "cell_type": "code",
   "execution_count": 25,
   "id": "bc8fbdd6-5dd6-48c4-a55a-5052c9294532",
   "metadata": {},
   "outputs": [
    {
     "name": "stdout",
     "output_type": "stream",
     "text": [
      "> predicted=1.0, actual=1.0\n",
      "> predicted=1.0, actual=1.0\n",
      "> predicted=0.0, actual=0.0\n",
      "> predicted=0.0, actual=0.0\n",
      "> predicted=1.0, actual=0.0\n",
      "> predicted=1.0, actual=1.0\n",
      "> predicted=1.0, actual=1.0\n",
      "> predicted=1.0, actual=1.0\n",
      "> predicted=1.0, actual=1.0\n",
      "> predicted=1.0, actual=1.0\n",
      "> predicted=1.0, actual=1.0\n",
      "> predicted=1.0, actual=1.0\n",
      "> predicted=0.0, actual=1.0\n",
      "> predicted=0.0, actual=0.0\n",
      "> predicted=1.0, actual=1.0\n",
      "> predicted=1.0, actual=0.0\n",
      "> predicted=0.0, actual=0.0\n",
      "> predicted=0.0, actual=0.0\n",
      "> predicted=0.0, actual=1.0\n",
      "> predicted=0.0, actual=1.0\n",
      "> predicted=0.0, actual=0.0\n",
      "> predicted=0.0, actual=0.0\n",
      "> predicted=0.0, actual=1.0\n",
      "> predicted=1.0, actual=0.0\n",
      "> predicted=1.0, actual=1.0\n",
      "> predicted=0.0, actual=0.0\n",
      "> predicted=1.0, actual=0.0\n",
      "> predicted=0.0, actual=1.0\n",
      "> predicted=0.0, actual=0.0\n",
      "> predicted=1.0, actual=0.0\n",
      "> predicted=1.0, actual=0.0\n",
      "> predicted=1.0, actual=1.0\n",
      "> predicted=0.0, actual=1.0\n",
      "> predicted=0.0, actual=0.0\n",
      "> predicted=0.0, actual=1.0\n",
      "> predicted=1.0, actual=1.0\n",
      "> predicted=1.0, actual=0.0\n"
     ]
    }
   ],
   "source": [
    "predictions=[]\n",
    "k = 3\n",
    "for x in range(len(testSet)):\n",
    "    neighbors = getNeighbors(trainingSet, testSet[x], k)\n",
    "    result = getResponse(neighbors)\n",
    "    predictions.append(result)\n",
    "    print('> predicted=' + repr(result) + ', actual=' + repr(testSet[x][-1]))"
   ]
  },
  {
   "cell_type": "code",
   "execution_count": 26,
   "id": "33776203-39b6-4cdd-9329-287beb153d65",
   "metadata": {},
   "outputs": [
    {
     "name": "stdout",
     "output_type": "stream",
     "text": [
      "Accuracy: 62.16216216216216%\n"
     ]
    }
   ],
   "source": [
    "accuracy = getAccuracy(testSet, predictions)\n",
    "print('Accuracy: ' + repr(accuracy) + '%')"
   ]
  },
  {
   "cell_type": "code",
   "execution_count": 28,
   "id": "299a0964-636e-4444-8870-4c19d3298765",
   "metadata": {},
   "outputs": [],
   "source": [
    "trainingSet2 = pd.DataFrame(np.array(trainingSet).reshape(len(trainingSet),7), columns = df.columns)\n",
    "testSet2 = pd.DataFrame(np.array(testSet).reshape(len(testSet),7), columns = df.columns)"
   ]
  },
  {
   "cell_type": "code",
   "execution_count": 29,
   "id": "4e599122-006f-414d-a6ba-39135527b97a",
   "metadata": {},
   "outputs": [
    {
     "data": {
      "text/html": [
       "<div>\n",
       "<style scoped>\n",
       "    .dataframe tbody tr th:only-of-type {\n",
       "        vertical-align: middle;\n",
       "    }\n",
       "\n",
       "    .dataframe tbody tr th {\n",
       "        vertical-align: top;\n",
       "    }\n",
       "\n",
       "    .dataframe thead th {\n",
       "        text-align: right;\n",
       "    }\n",
       "</style>\n",
       "<table border=\"1\" class=\"dataframe\">\n",
       "  <thead>\n",
       "    <tr style=\"text-align: right;\">\n",
       "      <th></th>\n",
       "      <th>infoavail</th>\n",
       "      <th>housecost</th>\n",
       "      <th>schoolquality</th>\n",
       "      <th>policetrust</th>\n",
       "      <th>streetquality</th>\n",
       "      <th>ëvents</th>\n",
       "      <th>happy</th>\n",
       "    </tr>\n",
       "  </thead>\n",
       "  <tbody>\n",
       "    <tr>\n",
       "      <th>0</th>\n",
       "      <td>0.50</td>\n",
       "      <td>0.50</td>\n",
       "      <td>0.50</td>\n",
       "      <td>0.75</td>\n",
       "      <td>0.25</td>\n",
       "      <td>4.0</td>\n",
       "      <td>0.0</td>\n",
       "    </tr>\n",
       "    <tr>\n",
       "      <th>1</th>\n",
       "      <td>0.50</td>\n",
       "      <td>0.25</td>\n",
       "      <td>0.50</td>\n",
       "      <td>1.00</td>\n",
       "      <td>0.75</td>\n",
       "      <td>3.0</td>\n",
       "      <td>0.0</td>\n",
       "    </tr>\n",
       "    <tr>\n",
       "      <th>2</th>\n",
       "      <td>1.00</td>\n",
       "      <td>0.50</td>\n",
       "      <td>0.50</td>\n",
       "      <td>0.50</td>\n",
       "      <td>0.50</td>\n",
       "      <td>5.0</td>\n",
       "      <td>1.0</td>\n",
       "    </tr>\n",
       "    <tr>\n",
       "      <th>3</th>\n",
       "      <td>1.00</td>\n",
       "      <td>0.75</td>\n",
       "      <td>0.50</td>\n",
       "      <td>0.50</td>\n",
       "      <td>0.50</td>\n",
       "      <td>5.0</td>\n",
       "      <td>0.0</td>\n",
       "    </tr>\n",
       "    <tr>\n",
       "      <th>4</th>\n",
       "      <td>1.00</td>\n",
       "      <td>0.75</td>\n",
       "      <td>0.50</td>\n",
       "      <td>0.50</td>\n",
       "      <td>0.50</td>\n",
       "      <td>5.0</td>\n",
       "      <td>0.0</td>\n",
       "    </tr>\n",
       "    <tr>\n",
       "      <th>...</th>\n",
       "      <td>...</td>\n",
       "      <td>...</td>\n",
       "      <td>...</td>\n",
       "      <td>...</td>\n",
       "      <td>...</td>\n",
       "      <td>...</td>\n",
       "      <td>...</td>\n",
       "    </tr>\n",
       "    <tr>\n",
       "      <th>101</th>\n",
       "      <td>0.50</td>\n",
       "      <td>0.75</td>\n",
       "      <td>0.75</td>\n",
       "      <td>1.00</td>\n",
       "      <td>0.00</td>\n",
       "      <td>3.0</td>\n",
       "      <td>1.0</td>\n",
       "    </tr>\n",
       "    <tr>\n",
       "      <th>102</th>\n",
       "      <td>1.00</td>\n",
       "      <td>1.00</td>\n",
       "      <td>0.00</td>\n",
       "      <td>0.00</td>\n",
       "      <td>1.00</td>\n",
       "      <td>1.0</td>\n",
       "      <td>1.0</td>\n",
       "    </tr>\n",
       "    <tr>\n",
       "      <th>103</th>\n",
       "      <td>0.75</td>\n",
       "      <td>0.75</td>\n",
       "      <td>0.75</td>\n",
       "      <td>0.75</td>\n",
       "      <td>0.00</td>\n",
       "      <td>3.0</td>\n",
       "      <td>0.0</td>\n",
       "    </tr>\n",
       "    <tr>\n",
       "      <th>104</th>\n",
       "      <td>1.00</td>\n",
       "      <td>0.25</td>\n",
       "      <td>0.50</td>\n",
       "      <td>0.75</td>\n",
       "      <td>0.75</td>\n",
       "      <td>3.0</td>\n",
       "      <td>1.0</td>\n",
       "    </tr>\n",
       "    <tr>\n",
       "      <th>105</th>\n",
       "      <td>0.75</td>\n",
       "      <td>0.50</td>\n",
       "      <td>0.50</td>\n",
       "      <td>0.75</td>\n",
       "      <td>0.75</td>\n",
       "      <td>5.0</td>\n",
       "      <td>0.0</td>\n",
       "    </tr>\n",
       "  </tbody>\n",
       "</table>\n",
       "<p>106 rows × 7 columns</p>\n",
       "</div>"
      ],
      "text/plain": [
       "     infoavail  housecost  schoolquality  policetrust  streetquality  ëvents  \\\n",
       "0         0.50       0.50           0.50         0.75           0.25     4.0   \n",
       "1         0.50       0.25           0.50         1.00           0.75     3.0   \n",
       "2         1.00       0.50           0.50         0.50           0.50     5.0   \n",
       "3         1.00       0.75           0.50         0.50           0.50     5.0   \n",
       "4         1.00       0.75           0.50         0.50           0.50     5.0   \n",
       "..         ...        ...            ...          ...            ...     ...   \n",
       "101       0.50       0.75           0.75         1.00           0.00     3.0   \n",
       "102       1.00       1.00           0.00         0.00           1.00     1.0   \n",
       "103       0.75       0.75           0.75         0.75           0.00     3.0   \n",
       "104       1.00       0.25           0.50         0.75           0.75     3.0   \n",
       "105       0.75       0.50           0.50         0.75           0.75     5.0   \n",
       "\n",
       "     happy  \n",
       "0      0.0  \n",
       "1      0.0  \n",
       "2      1.0  \n",
       "3      0.0  \n",
       "4      0.0  \n",
       "..     ...  \n",
       "101    1.0  \n",
       "102    1.0  \n",
       "103    0.0  \n",
       "104    1.0  \n",
       "105    0.0  \n",
       "\n",
       "[106 rows x 7 columns]"
      ]
     },
     "execution_count": 29,
     "metadata": {},
     "output_type": "execute_result"
    }
   ],
   "source": [
    "trainingSet2"
   ]
  },
  {
   "cell_type": "code",
   "execution_count": 30,
   "id": "ffbbb728-c188-444c-bbdb-b27761e6c425",
   "metadata": {},
   "outputs": [
    {
     "data": {
      "text/plain": [
       "infoavail        float64\n",
       "housecost        float64\n",
       "schoolquality    float64\n",
       "policetrust      float64\n",
       "streetquality    float64\n",
       "ëvents           float64\n",
       "happy            float64\n",
       "dtype: object"
      ]
     },
     "execution_count": 30,
     "metadata": {},
     "output_type": "execute_result"
    }
   ],
   "source": [
    "trainingSet2.dtypes"
   ]
  },
  {
   "cell_type": "code",
   "execution_count": 31,
   "id": "e7af4020-5fef-4985-b4ab-81cd761922c2",
   "metadata": {},
   "outputs": [
    {
     "data": {
      "text/plain": [
       "infoavail        float64\n",
       "housecost        float64\n",
       "schoolquality    float64\n",
       "policetrust      float64\n",
       "streetquality    float64\n",
       "ëvents           float64\n",
       "happy            float64\n",
       "dtype: object"
      ]
     },
     "execution_count": 31,
     "metadata": {},
     "output_type": "execute_result"
    }
   ],
   "source": [
    "testSet2.dtypes"
   ]
  },
  {
   "cell_type": "code",
   "execution_count": 33,
   "id": "079391b0-cc36-4e67-964b-8a15ed0af389",
   "metadata": {},
   "outputs": [],
   "source": [
    "from sklearn.neighbors import KNeighborsClassifier\n",
    "knn = KNeighborsClassifier(n_neighbors = 3)\n",
    "x_train,y_train = trainingSet2.loc[:,trainingSet2.columns != 'happy'], trainingSet2.loc[:,'happy']\n",
    "x_test,y_test = testSet2.loc[:,testSet2.columns != 'happy'], testSet2.loc[:,'happy']"
   ]
  },
  {
   "cell_type": "code",
   "execution_count": 34,
   "id": "944269c7-b459-4cd9-a5dd-08e682952b1e",
   "metadata": {},
   "outputs": [
    {
     "name": "stdout",
     "output_type": "stream",
     "text": [
      "Prediction: [1. 1. 0. 0. 1. 1. 1. 1. 1. 1. 1. 1. 0. 0. 1. 1. 0. 0. 0. 0. 0. 0. 0. 1.\n",
      " 1. 0. 1. 0. 0. 1. 1. 1. 0. 0. 0. 1. 1.]\n",
      "With KNN (K=3) accuracy is:  0.6216216216216216\n"
     ]
    }
   ],
   "source": [
    "knn.fit(x_train,y_train)\n",
    "prediction = knn.predict(x_test)\n",
    "print('Prediction: {}'.format(prediction))\n",
    "print('With KNN (K=3) accuracy is: ',knn.score(x_test,y_test)) # accuracy"
   ]
  },
  {
   "cell_type": "code",
   "execution_count": 38,
   "id": "4e4e9d37-a9da-4a0b-8c7a-4baf021a416f",
   "metadata": {},
   "outputs": [],
   "source": [
    "y_pred_train = knn.predict(x_train)"
   ]
  },
  {
   "cell_type": "code",
   "execution_count": 41,
   "id": "ffe8cbe4-60a5-4afa-a5f5-01b979beca85",
   "metadata": {},
   "outputs": [
    {
     "data": {
      "text/plain": [
       "array([1., 1., 0., 0., 1., 1., 1., 1., 1., 1., 1., 1., 0., 0., 1., 1., 0.,\n",
       "       0., 0., 0., 0., 0., 0., 1., 1., 0., 1., 0., 0., 1., 1., 1., 0., 0.,\n",
       "       0., 1., 1.])"
      ]
     },
     "execution_count": 41,
     "metadata": {},
     "output_type": "execute_result"
    }
   ],
   "source": [
    "y_pred = knn.predict(x_test)\n",
    "\n",
    "y_pred"
   ]
  },
  {
   "cell_type": "code",
   "execution_count": 42,
   "id": "aef912ef-7ee0-4c9e-8ddd-80179cd5f7c1",
   "metadata": {},
   "outputs": [
    {
     "name": "stdout",
     "output_type": "stream",
     "text": [
      "Confusion matrix\n",
      "\n",
      " [[10  7]\n",
      " [ 7 13]]\n",
      "\n",
      "True Positives(TP) =  10\n",
      "\n",
      "True Negatives(TN) =  13\n",
      "\n",
      "False Positives(FP) =  7\n",
      "\n",
      "False Negatives(FN) =  7\n"
     ]
    }
   ],
   "source": [
    "from sklearn.metrics import confusion_matrix\n",
    "\n",
    "cm = confusion_matrix(y_test, y_pred)\n",
    "\n",
    "print('Confusion matrix\\n\\n', cm)\n",
    "\n",
    "print('\\nTrue Positives(TP) = ', cm[0,0])\n",
    "\n",
    "print('\\nTrue Negatives(TN) = ', cm[1,1])\n",
    "\n",
    "print('\\nFalse Positives(FP) = ', cm[0,1])\n",
    "\n",
    "print('\\nFalse Negatives(FN) = ', cm[1,0])"
   ]
  },
  {
   "cell_type": "code",
   "execution_count": 44,
   "id": "42ca3d84-a951-401b-b395-4f9037a23b81",
   "metadata": {},
   "outputs": [],
   "source": [
    "TP = cm[0,0]\n",
    "TN = cm[1,1]\n",
    "FP = cm[0,1]\n",
    "FN = cm[1,0]"
   ]
  },
  {
   "cell_type": "code",
   "execution_count": 45,
   "id": "f5fc89ca-a972-489b-aaa8-09463369bdbd",
   "metadata": {},
   "outputs": [
    {
     "name": "stdout",
     "output_type": "stream",
     "text": [
      "Classification accuracy : 0.6216\n"
     ]
    }
   ],
   "source": [
    "# print classification accuracy\n",
    "\n",
    "classification_accuracy = (TP + TN) / float(TP + TN + FP + FN)\n",
    "\n",
    "print('Classification accuracy : {0:0.4f}'.format(classification_accuracy))"
   ]
  },
  {
   "cell_type": "code",
   "execution_count": 46,
   "id": "8d1cfc9c-8d31-4cf4-803a-9d796f337a08",
   "metadata": {},
   "outputs": [
    {
     "name": "stdout",
     "output_type": "stream",
     "text": [
      "Classification error : 0.3784\n"
     ]
    }
   ],
   "source": [
    "# print classification error\n",
    "\n",
    "classification_error = (FP + FN) / float(TP + TN + FP + FN)\n",
    "\n",
    "print('Classification error : {0:0.4f}'.format(classification_error))"
   ]
  },
  {
   "cell_type": "code",
   "execution_count": 50,
   "id": "9cdf7d5a-f56a-465d-bd3b-a52e39c073cd",
   "metadata": {},
   "outputs": [
    {
     "name": "stdout",
     "output_type": "stream",
     "text": [
      "              precision    recall  f1-score   support\n",
      "\n",
      "         0.0       0.59      0.59      0.59        17\n",
      "         1.0       0.65      0.65      0.65        20\n",
      "\n",
      "    accuracy                           0.62        37\n",
      "   macro avg       0.62      0.62      0.62        37\n",
      "weighted avg       0.62      0.62      0.62        37\n",
      "\n"
     ]
    }
   ],
   "source": [
    "from sklearn.metrics import classification_report\n",
    "\n",
    "print(classification_report(y_test, y_pred))"
   ]
  },
  {
   "cell_type": "code",
   "execution_count": 47,
   "id": "f7c72c06-09c0-4318-9bf0-7517b41b27db",
   "metadata": {},
   "outputs": [
    {
     "name": "stdout",
     "output_type": "stream",
     "text": [
      "Precision : 0.5882\n"
     ]
    }
   ],
   "source": [
    "# print precision score\n",
    "\n",
    "precision = TP / float(TP + FP)\n",
    "\n",
    "\n",
    "print('Precision : {0:0.4f}'.format(precision))"
   ]
  },
  {
   "cell_type": "code",
   "execution_count": 48,
   "id": "4d2ea202-f4a0-461d-98d6-0eb989263627",
   "metadata": {},
   "outputs": [
    {
     "name": "stdout",
     "output_type": "stream",
     "text": [
      "Recall or Sensitivity : 0.5882\n"
     ]
    }
   ],
   "source": [
    "recall = TP / float(TP + FN)\n",
    "\n",
    "print('Recall or Sensitivity : {0:0.4f}'.format(recall))"
   ]
  },
  {
   "cell_type": "code",
   "execution_count": 49,
   "id": "722647d2-669c-46d7-8ec8-d8302fb18445",
   "metadata": {},
   "outputs": [
    {
     "name": "stdout",
     "output_type": "stream",
     "text": [
      "Specificity : 0.6500\n"
     ]
    }
   ],
   "source": [
    "specificity = TN / (TN + FP)\n",
    "\n",
    "print('Specificity : {0:0.4f}'.format(specificity))"
   ]
  },
  {
   "cell_type": "code",
   "execution_count": null,
   "id": "0272126e-6ecc-4a07-8bf5-9631eb95355d",
   "metadata": {},
   "outputs": [],
   "source": []
  }
 ],
 "metadata": {
  "kernelspec": {
   "display_name": "Python 3 (ipykernel)",
   "language": "python",
   "name": "python3"
  },
  "language_info": {
   "codemirror_mode": {
    "name": "ipython",
    "version": 3
   },
   "file_extension": ".py",
   "mimetype": "text/x-python",
   "name": "python",
   "nbconvert_exporter": "python",
   "pygments_lexer": "ipython3",
   "version": "3.11.7"
  }
 },
 "nbformat": 4,
 "nbformat_minor": 5
}
